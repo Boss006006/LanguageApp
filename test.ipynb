{
 "cells": [
  {
   "cell_type": "code",
   "execution_count": 1,
   "metadata": {},
   "outputs": [],
   "source": [
    "import streamlit as st\n",
    "import pyodbc\n",
    "import pandas as pd\n",
    "import os\n"
   ]
  },
  {
   "cell_type": "code",
   "execution_count": 2,
   "metadata": {},
   "outputs": [
    {
     "ename": "ValueError",
     "evalue": "Database username or password is not set in environment variables.",
     "output_type": "error",
     "traceback": [
      "\u001b[1;31m---------------------------------------------------------------------------\u001b[0m",
      "\u001b[1;31mValueError\u001b[0m                                Traceback (most recent call last)",
      "Cell \u001b[1;32mIn[2], line 7\u001b[0m\n\u001b[0;32m      5\u001b[0m \u001b[38;5;66;03m# Check if credentials are loaded\u001b[39;00m\n\u001b[0;32m      6\u001b[0m \u001b[38;5;28;01mif\u001b[39;00m \u001b[38;5;129;01mnot\u001b[39;00m db_username \u001b[38;5;129;01mor\u001b[39;00m \u001b[38;5;129;01mnot\u001b[39;00m db_password:\n\u001b[1;32m----> 7\u001b[0m     \u001b[38;5;28;01mraise\u001b[39;00m \u001b[38;5;167;01mValueError\u001b[39;00m(\u001b[38;5;124m\"\u001b[39m\u001b[38;5;124mDatabase username or password is not set in environment variables.\u001b[39m\u001b[38;5;124m\"\u001b[39m)\n",
      "\u001b[1;31mValueError\u001b[0m: Database username or password is not set in environment variables."
     ]
    }
   ],
   "source": [
    "db_username = os.getenv('DB_LOGIN')\n",
    "db_password = os.getenv('DB_PASSWORD')\n",
    "\n",
    "\n",
    "# Check if credentials are loaded\n",
    "if not db_username or not db_password:\n",
    "    raise ValueError(\"Database username or password is not set in environment variables.\")\n"
   ]
  },
  {
   "cell_type": "code",
   "execution_count": 8,
   "metadata": {},
   "outputs": [
    {
     "name": "stdout",
     "output_type": "stream",
     "text": [
      "@ASW94asw\n",
      "None\n",
      "None\n"
     ]
    }
   ],
   "source": [
    "import os\n",
    "\n",
    "print(os.getenv('GMAIL_PASSWORD'))  # Should print your database username\n",
    "\n",
    "print(os.getenv('DB_LOGIN'))  # Should print your database username\n",
    "print(os.getenv('DB_PASSWORD'))  # Should print your database password"
   ]
  },
  {
   "cell_type": "code",
   "execution_count": null,
   "metadata": {},
   "outputs": [],
   "source": []
  },
  {
   "cell_type": "code",
   "execution_count": 5,
   "metadata": {},
   "outputs": [],
   "source": [
    "# Connection parameters\n",
    "server = 'DESKTOP-LM53HA6\\\\SQLEXPRESS'\n",
    "database = 'LanguageApp'\n",
    "\n",
    "connection_string = f'DRIVER={{SQL Server}};SERVER={server};DATABASE={database};Trusted_Connection=yes'\n"
   ]
  },
  {
   "cell_type": "code",
   "execution_count": null,
   "metadata": {},
   "outputs": [],
   "source": [
    "\n",
    "with pyodbc.connect(connection_string) as conn:\n",
    "    print(\"Connection successful!\")\n",
    "\n",
    "    # Fetch data into a DataFrame\n",
    "    query = \"SELECT * FROM L_Translations\"\n",
    "    df = pd.read_sql(query, conn)\n",
    "    print(\"Data fetched successfully!\")\n",
    "\n",
    "\n"
   ]
  },
  {
   "cell_type": "code",
   "execution_count": null,
   "metadata": {},
   "outputs": [],
   "source": [
    "df.head()"
   ]
  },
  {
   "cell_type": "code",
   "execution_count": null,
   "metadata": {},
   "outputs": [],
   "source": [
    "    # Perform data operations (e.g., adding a column)\n",
    "    df['Bonus'] = df['Salary'] * 0.1\n",
    "    print(df)\n",
    "\n",
    "    # Write data back to the database\n",
    "    for index, row in df.iterrows():\n",
    "        with conn.cursor() as cursor:\n",
    "            cursor.execute(\n",
    "                \"UPDATE Employees SET Bonus = ? WHERE EmployeeID = ?\",\n",
    "                row['Bonus'], row['EmployeeID']\n",
    "            )\n",
    "            conn.commit()\n",
    "    print(\"Data written back successfully!\")"
   ]
  },
  {
   "cell_type": "code",
   "execution_count": null,
   "metadata": {},
   "outputs": [],
   "source": []
  }
 ],
 "metadata": {
  "kernelspec": {
   "display_name": "venv",
   "language": "python",
   "name": "python3"
  },
  "language_info": {
   "codemirror_mode": {
    "name": "ipython",
    "version": 3
   },
   "file_extension": ".py",
   "mimetype": "text/x-python",
   "name": "python",
   "nbconvert_exporter": "python",
   "pygments_lexer": "ipython3",
   "version": "3.11.9"
  }
 },
 "nbformat": 4,
 "nbformat_minor": 2
}
