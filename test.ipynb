{
 "cells": [
  {
   "cell_type": "code",
   "execution_count": 1,
   "metadata": {},
   "outputs": [],
   "source": [
    "import streamlit as st\n",
    "import pyodbc\n",
    "import pandas as pd\n",
    "import os\n"
   ]
  },
  {
   "cell_type": "code",
   "execution_count": 2,
   "metadata": {},
   "outputs": [
    {
     "name": "stdout",
     "output_type": "stream",
     "text": [
      "Collecting mysql-connector-python\n",
      "  Downloading mysql_connector_python-9.2.0-cp311-cp311-win_amd64.whl.metadata (6.2 kB)\n",
      "Downloading mysql_connector_python-9.2.0-cp311-cp311-win_amd64.whl (16.1 MB)\n",
      "   ---------------------------------------- 0.0/16.1 MB ? eta -:--:--\n",
      "   ---------------------------------------- 0.0/16.1 MB ? eta -:--:--\n",
      "   ---------------------------------------- 0.0/16.1 MB 435.7 kB/s eta 0:00:37\n",
      "   ---------------------------------------- 0.2/16.1 MB 1.6 MB/s eta 0:00:10\n",
      "   - -------------------------------------- 0.5/16.1 MB 3.7 MB/s eta 0:00:05\n",
      "   -- ------------------------------------- 1.0/16.1 MB 5.1 MB/s eta 0:00:03\n",
      "   --- ------------------------------------ 1.5/16.1 MB 5.8 MB/s eta 0:00:03\n",
      "   ---- ----------------------------------- 1.9/16.1 MB 6.6 MB/s eta 0:00:03\n",
      "   ----- ---------------------------------- 2.3/16.1 MB 6.9 MB/s eta 0:00:02\n",
      "   ------ --------------------------------- 2.6/16.1 MB 7.0 MB/s eta 0:00:02\n",
      "   ------- -------------------------------- 2.9/16.1 MB 6.9 MB/s eta 0:00:02\n",
      "   -------- ------------------------------- 3.3/16.1 MB 6.8 MB/s eta 0:00:02\n",
      "   -------- ------------------------------- 3.6/16.1 MB 7.0 MB/s eta 0:00:02\n",
      "   --------- ------------------------------ 3.9/16.1 MB 6.9 MB/s eta 0:00:02\n",
      "   ---------- ----------------------------- 4.2/16.1 MB 6.9 MB/s eta 0:00:02\n",
      "   ----------- ---------------------------- 4.5/16.1 MB 6.9 MB/s eta 0:00:02\n",
      "   ------------ --------------------------- 4.9/16.1 MB 6.9 MB/s eta 0:00:02\n",
      "   ------------ --------------------------- 5.2/16.1 MB 6.9 MB/s eta 0:00:02\n",
      "   -------------- ------------------------- 5.7/16.1 MB 7.1 MB/s eta 0:00:02\n",
      "   --------------- ------------------------ 6.1/16.1 MB 7.2 MB/s eta 0:00:02\n",
      "   --------------- ------------------------ 6.4/16.1 MB 7.1 MB/s eta 0:00:02\n",
      "   ---------------- ----------------------- 6.6/16.1 MB 7.1 MB/s eta 0:00:02\n",
      "   ----------------- ---------------------- 6.9/16.1 MB 7.0 MB/s eta 0:00:02\n",
      "   ------------------ --------------------- 7.3/16.1 MB 7.1 MB/s eta 0:00:02\n",
      "   ------------------- -------------------- 7.7/16.1 MB 7.1 MB/s eta 0:00:02\n",
      "   -------------------- ------------------- 8.1/16.1 MB 7.2 MB/s eta 0:00:02\n",
      "   --------------------- ------------------ 8.6/16.1 MB 7.3 MB/s eta 0:00:02\n",
      "   ---------------------- ----------------- 8.9/16.1 MB 7.3 MB/s eta 0:00:01\n",
      "   ---------------------- ----------------- 9.2/16.1 MB 7.3 MB/s eta 0:00:01\n",
      "   ----------------------- ---------------- 9.6/16.1 MB 7.3 MB/s eta 0:00:01\n",
      "   ------------------------ --------------- 10.0/16.1 MB 7.3 MB/s eta 0:00:01\n",
      "   ------------------------- -------------- 10.4/16.1 MB 7.8 MB/s eta 0:00:01\n",
      "   -------------------------- ------------- 10.7/16.1 MB 7.8 MB/s eta 0:00:01\n",
      "   --------------------------- ------------ 11.2/16.1 MB 7.8 MB/s eta 0:00:01\n",
      "   ---------------------------- ----------- 11.6/16.1 MB 7.8 MB/s eta 0:00:01\n",
      "   ------------------------------ --------- 12.1/16.1 MB 7.8 MB/s eta 0:00:01\n",
      "   ------------------------------- -------- 12.5/16.1 MB 7.9 MB/s eta 0:00:01\n",
      "   -------------------------------- ------- 12.9/16.1 MB 8.0 MB/s eta 0:00:01\n",
      "   -------------------------------- ------- 13.2/16.1 MB 7.9 MB/s eta 0:00:01\n",
      "   --------------------------------- ------ 13.6/16.1 MB 7.9 MB/s eta 0:00:01\n",
      "   ---------------------------------- ----- 14.0/16.1 MB 8.0 MB/s eta 0:00:01\n",
      "   ----------------------------------- ---- 14.5/16.1 MB 8.3 MB/s eta 0:00:01\n",
      "   ------------------------------------ --- 14.9/16.1 MB 8.2 MB/s eta 0:00:01\n",
      "   ------------------------------------- -- 15.3/16.1 MB 8.4 MB/s eta 0:00:01\n",
      "   -------------------------------------- - 15.7/16.1 MB 8.4 MB/s eta 0:00:01\n",
      "   ---------------------------------------  16.1/16.1 MB 8.4 MB/s eta 0:00:01\n",
      "   ---------------------------------------  16.1/16.1 MB 8.4 MB/s eta 0:00:01\n",
      "   ---------------------------------------- 16.1/16.1 MB 8.0 MB/s eta 0:00:00\n",
      "Installing collected packages: mysql-connector-python\n",
      "Successfully installed mysql-connector-python-9.2.0\n",
      "Note: you may need to restart the kernel to use updated packages.\n"
     ]
    },
    {
     "name": "stderr",
     "output_type": "stream",
     "text": [
      "\n",
      "[notice] A new release of pip is available: 24.0 -> 24.3.1\n",
      "[notice] To update, run: C:\\Users\\hrbos\\AppData\\Local\\Microsoft\\WindowsApps\\PythonSoftwareFoundation.Python.3.11_qbz5n2kfra8p0\\python.exe -m pip install --upgrade pip\n"
     ]
    }
   ],
   "source": [
    "pip install mysql-connector-python\n"
   ]
  },
  {
   "cell_type": "code",
   "execution_count": 3,
   "metadata": {},
   "outputs": [],
   "source": [
    "import mysql.connector\n",
    "from mysql.connector import Error"
   ]
  },
  {
   "cell_type": "code",
   "execution_count": 4,
   "metadata": {},
   "outputs": [
    {
     "name": "stdout",
     "output_type": "stream",
     "text": [
      "Connected to the database successfully!\n",
      "Tables: [('_L_L_WORDS',)]\n",
      "Connection closed.\n"
     ]
    }
   ],
   "source": [
    "# Replace with your actual database details\n",
    "db_config = {\n",
    "    'host': 'sql7.freesqldatabase.com',\n",
    "    'database': 'sql7760550',\n",
    "    'user': 'sql7760550',\n",
    "    'password': 'IZvd79hE57',\n",
    "    'port': 3306\n",
    "}\n",
    "\n",
    "try:\n",
    "    connection = mysql.connector.connect(**db_config)\n",
    "\n",
    "    if connection.is_connected():\n",
    "        print(\"Connected to the database successfully!\")\n",
    "        cursor = connection.cursor()\n",
    "        cursor.execute(\"SHOW TABLES;\")\n",
    "        tables = cursor.fetchall()\n",
    "        print(\"Tables:\", tables)\n",
    "\n",
    "except Error as e:\n",
    "    print(f\"Error: {e}\")\n",
    "\n",
    "finally:\n",
    "    if 'connection' in locals() and connection.is_connected():\n",
    "        cursor.close()\n",
    "        connection.close()\n",
    "        print(\"Connection closed.\")"
   ]
  },
  {
   "cell_type": "code",
   "execution_count": null,
   "metadata": {},
   "outputs": [],
   "source": [
    "\n",
    "# Button to force reload new data\n",
    "if st.button(\"Refresh Data 🔄\"):\n",
    "    st.cache_data.clear()  # Clears cached data, forcing a fresh query\n",
    "    st.rerun()  # Reruns the script to load fresh data"
   ]
  },
  {
   "cell_type": "code",
   "execution_count": null,
   "metadata": {},
   "outputs": [],
   "source": [
    "#region ---- Practice words ----\n",
    "if general_menu == 'Words':\n",
    "    st.title('Practice words')\n",
    "\n",
    "    with pyodbc.connect(connection_string) as conn:\n",
    "        print(\"Connection successful!\")\n",
    "\n",
    "        # Fetch data into a DataFrame\n",
    "        query = \"SELECT * FROM L_Translations\"\n",
    "        df_words = pd.read_sql(query, conn)\n",
    "\n",
    "\n",
    "    st.write('---')\n",
    "\n",
    "    # Display headers just once\n",
    "    col1, col2, col3, col4, col5 = st.columns(5)\n",
    "    with col1:\n",
    "        st.subheader(\"🇳🇱 Dutch\")\n",
    "    with col2:\n",
    "        st.subheader(\"🇬🇧 English\")\n",
    "    with col3:\n",
    "        st.subheader(\"🇪🇸 Spanish\")\n",
    "\n",
    "    # Display the words row by row\n",
    "    for index, row in df_words.iterrows():\n",
    "        col1, col2, col3, col4, col5 = st.columns(5)\n",
    "        with col1:\n",
    "            st.write(f\"<h5 style='color: #333;'>{row['Dutch']}</h5>\", unsafe_allow_html=True)\n",
    "        with col2:\n",
    "            st.markdown(f\"<h5 style='color: #333;'>{row['English']}</h5>\", unsafe_allow_html=True)\n",
    "        with col3:\n",
    "            st.markdown(f\"<h5 style='color: #333;'>{row['Spanish']}</h5>\", unsafe_allow_html=True)\n",
    "\n",
    "#endregion\n",
    "\n",
    "#region ---- Input Words ----\n",
    "if general_menu == 'Input Words':\n",
    "    st.title('Input words')\n",
    "\n",
    "    # Input fields for Dutch, English, and Spanish\n",
    "    dutch_word = st.text_input(\"Dutch Word\", placeholder=\"Enter the Dutch word\")\n",
    "    english_word = st.text_input(\"English Word\", placeholder=\"Enter the English word\")\n",
    "    spanish_word = st.text_input(\"Spanish Word\", placeholder=\"Enter the Spanish word\")\n",
    "\n",
    "    # Submit button\n",
    "    if st.button(\"Submit\"):\n",
    "        # Check if all fields are filled\n",
    "        if dutch_word and english_word and spanish_word:\n",
    "            try:\n",
    "                # Connect to the database and insert the new row\n",
    "                with pyodbc.connect(connection_string) as conn:\n",
    "                    cursor = conn.cursor()\n",
    "                    insert_query = \"\"\"\n",
    "                    INSERT INTO L_Translations (Dutch, English, Spanish)\n",
    "                    VALUES (?, ?, ?)\n",
    "                    \"\"\"\n",
    "                    cursor.execute(insert_query, (dutch_word, english_word, spanish_word))\n",
    "                    conn.commit()\n",
    "                    st.success(\"New words inserted successfully!\")\n",
    "            except Exception as e:\n",
    "                st.error(f\"An error occurred: {e}\")\n",
    "        else:\n",
    "            st.warning(\"Please fill in all fields before submitting.\")\n",
    "#endregion\n"
   ]
  },
  {
   "cell_type": "code",
   "execution_count": null,
   "metadata": {},
   "outputs": [],
   "source": []
  },
  {
   "cell_type": "code",
   "execution_count": 5,
   "metadata": {},
   "outputs": [
    {
     "name": "stdout",
     "output_type": "stream",
     "text": [
      "Connected to the database successfully!\n",
      "Tables: [('_L_L_WORDS',)]\n",
      "Connection closed.\n"
     ]
    }
   ],
   "source": [
    "#region ---- Import modules ----\n",
    "import pandas as pd\n",
    "import pyodbc\n",
    "import streamlit as st\n",
    "from streamlit_option_menu import option_menu\n",
    "import time\n",
    "import os\n",
    "import mysql.connector\n",
    "from mysql.connector import Error\n",
    "\n",
    "#endregion\n",
    "\n",
    "#region ---- Create database connection\n",
    "\n",
    "db_config = {\n",
    "    'host': 'sql7.freesqldatabase.com',\n",
    "    'database': 'sql7760550',\n",
    "    'user': 'sql7760550',\n",
    "    'password': 'IZvd79hE57',\n",
    "    'port': 3306\n",
    "}\n",
    "\n",
    "try:\n",
    "    connection = mysql.connector.connect(**db_config)\n",
    "\n",
    "    if connection.is_connected():\n",
    "        print(\"Connected to the database successfully!\")\n",
    "        cursor = connection.cursor()\n",
    "        cursor.execute(\"SHOW TABLES;\")\n",
    "        tables = cursor.fetchall()\n",
    "        print(\"Tables:\", tables)\n",
    "\n",
    "except Error as e:\n",
    "    print(f\"Error: {e}\")\n",
    "\n",
    "finally:\n",
    "    if 'connection' in locals() and connection.is_connected():\n",
    "        cursor.close()\n",
    "        connection.close()\n",
    "        print(\"Connection closed.\")"
   ]
  },
  {
   "cell_type": "code",
   "execution_count": 8,
   "metadata": {},
   "outputs": [
    {
     "name": "stdout",
     "output_type": "stream",
     "text": [
      "sa\n",
      "@ucegY2A1\n"
     ]
    }
   ],
   "source": [
    "DB_LOGIN = os.getenv(\"DB_LOGIN\")\n",
    "DB_PASSWORD = os.getenv(\"DB_PASSWORD\")\n",
    "print(DB_LOGIN)\n",
    "print(DB_PASSWORD)"
   ]
  },
  {
   "cell_type": "code",
   "execution_count": null,
   "metadata": {},
   "outputs": [],
   "source": []
  }
 ],
 "metadata": {
  "kernelspec": {
   "display_name": "Python 3",
   "language": "python",
   "name": "python3"
  },
  "language_info": {
   "codemirror_mode": {
    "name": "ipython",
    "version": 3
   },
   "file_extension": ".py",
   "mimetype": "text/x-python",
   "name": "python",
   "nbconvert_exporter": "python",
   "pygments_lexer": "ipython3",
   "version": "3.11.9"
  }
 },
 "nbformat": 4,
 "nbformat_minor": 2
}
